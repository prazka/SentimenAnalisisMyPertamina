{
 "cells": [
  {
   "cell_type": "code",
   "execution_count": 1,
   "metadata": {},
   "outputs": [],
   "source": [
    "from google_play_scraper import app\n",
    "\n",
    "import pandas as pd\n",
    "\n",
    "import numpy as np"
   ]
  },
  {
   "cell_type": "code",
   "execution_count": 2,
   "metadata": {},
   "outputs": [],
   "source": [
    "#Get MyPertamina\n",
    "\n",
    "from google_play_scraper import Sort, reviews_all\n",
    "\n",
    "\n",
    "us_reviews = reviews_all(\n",
    "    'com.dafturn.mypertamina',\n",
    "    sleep_milliseconds=0, # defaults to 0\n",
    "    sort=Sort.NEWEST, # defaults to Sort.MOST_RELEVANT\n",
    ")"
   ]
  },
  {
   "cell_type": "code",
   "execution_count": 3,
   "metadata": {},
   "outputs": [
    {
     "data": {
      "text/html": [
       "<div>\n",
       "<style scoped>\n",
       "    .dataframe tbody tr th:only-of-type {\n",
       "        vertical-align: middle;\n",
       "    }\n",
       "\n",
       "    .dataframe tbody tr th {\n",
       "        vertical-align: top;\n",
       "    }\n",
       "\n",
       "    .dataframe thead th {\n",
       "        text-align: right;\n",
       "    }\n",
       "</style>\n",
       "<table border=\"1\" class=\"dataframe\">\n",
       "  <thead>\n",
       "    <tr style=\"text-align: right;\">\n",
       "      <th></th>\n",
       "      <th>reviewId</th>\n",
       "      <th>userName</th>\n",
       "      <th>userImage</th>\n",
       "      <th>content</th>\n",
       "      <th>score</th>\n",
       "      <th>thumbsUpCount</th>\n",
       "      <th>reviewCreatedVersion</th>\n",
       "      <th>at</th>\n",
       "      <th>replyContent</th>\n",
       "      <th>repliedAt</th>\n",
       "    </tr>\n",
       "  </thead>\n",
       "  <tbody>\n",
       "    <tr>\n",
       "      <th>0</th>\n",
       "      <td>45708432-788f-4243-a3c4-c6c3ccdbca46</td>\n",
       "      <td>Rully Pohan</td>\n",
       "      <td>https://play-lh.googleusercontent.com/a-/ACNPE...</td>\n",
       "      <td>kiosk matic gak berfungsi, order bright gas ga...</td>\n",
       "      <td>1</td>\n",
       "      <td>0</td>\n",
       "      <td>3.6.8</td>\n",
       "      <td>2022-11-04 12:04:57</td>\n",
       "      <td>None</td>\n",
       "      <td>NaT</td>\n",
       "    </tr>\n",
       "    <tr>\n",
       "      <th>1</th>\n",
       "      <td>2c65b98c-3089-456e-bb67-cf1b3fb2732c</td>\n",
       "      <td>Novitriyani Sekarjati</td>\n",
       "      <td>https://play-lh.googleusercontent.com/a-/ACNPE...</td>\n",
       "      <td>Ga niat bikin app kah? I spent an hour at spbu...</td>\n",
       "      <td>1</td>\n",
       "      <td>0</td>\n",
       "      <td>3.6.8</td>\n",
       "      <td>2022-11-04 07:48:52</td>\n",
       "      <td>None</td>\n",
       "      <td>NaT</td>\n",
       "    </tr>\n",
       "    <tr>\n",
       "      <th>2</th>\n",
       "      <td>b907acc8-9615-4348-bf49-96883e1f189e</td>\n",
       "      <td>Lucky Jaya</td>\n",
       "      <td>https://play-lh.googleusercontent.com/a-/ACNPE...</td>\n",
       "      <td>ngga bisa login, lucu yaa 🤣🤣</td>\n",
       "      <td>3</td>\n",
       "      <td>0</td>\n",
       "      <td>3.6.8</td>\n",
       "      <td>2022-11-03 23:56:43</td>\n",
       "      <td>None</td>\n",
       "      <td>NaT</td>\n",
       "    </tr>\n",
       "    <tr>\n",
       "      <th>3</th>\n",
       "      <td>de6d2b5b-92c9-48d2-8a7f-c823de0582fe</td>\n",
       "      <td>Nanang Fauzi</td>\n",
       "      <td>https://play-lh.googleusercontent.com/a-/ACNPE...</td>\n",
       "      <td>Saya sudah daftar untuk mobil pribadi, meskipu...</td>\n",
       "      <td>1</td>\n",
       "      <td>0</td>\n",
       "      <td>3.6.8</td>\n",
       "      <td>2022-11-03 15:45:38</td>\n",
       "      <td>None</td>\n",
       "      <td>NaT</td>\n",
       "    </tr>\n",
       "    <tr>\n",
       "      <th>4</th>\n",
       "      <td>fcdd3082-6a78-4e15-bfee-f1c34e1336a6</td>\n",
       "      <td>Azzar Hanif</td>\n",
       "      <td>https://play-lh.googleusercontent.com/a-/ACNPE...</td>\n",
       "      <td>Sering error</td>\n",
       "      <td>1</td>\n",
       "      <td>0</td>\n",
       "      <td>None</td>\n",
       "      <td>2022-11-03 06:39:27</td>\n",
       "      <td>None</td>\n",
       "      <td>NaT</td>\n",
       "    </tr>\n",
       "  </tbody>\n",
       "</table>\n",
       "</div>"
      ],
      "text/plain": [
       "                               reviewId               userName  \\\n",
       "0  45708432-788f-4243-a3c4-c6c3ccdbca46            Rully Pohan   \n",
       "1  2c65b98c-3089-456e-bb67-cf1b3fb2732c  Novitriyani Sekarjati   \n",
       "2  b907acc8-9615-4348-bf49-96883e1f189e             Lucky Jaya   \n",
       "3  de6d2b5b-92c9-48d2-8a7f-c823de0582fe           Nanang Fauzi   \n",
       "4  fcdd3082-6a78-4e15-bfee-f1c34e1336a6            Azzar Hanif   \n",
       "\n",
       "                                           userImage  \\\n",
       "0  https://play-lh.googleusercontent.com/a-/ACNPE...   \n",
       "1  https://play-lh.googleusercontent.com/a-/ACNPE...   \n",
       "2  https://play-lh.googleusercontent.com/a-/ACNPE...   \n",
       "3  https://play-lh.googleusercontent.com/a-/ACNPE...   \n",
       "4  https://play-lh.googleusercontent.com/a-/ACNPE...   \n",
       "\n",
       "                                             content  score  thumbsUpCount  \\\n",
       "0  kiosk matic gak berfungsi, order bright gas ga...      1              0   \n",
       "1  Ga niat bikin app kah? I spent an hour at spbu...      1              0   \n",
       "2                       ngga bisa login, lucu yaa 🤣🤣      3              0   \n",
       "3  Saya sudah daftar untuk mobil pribadi, meskipu...      1              0   \n",
       "4                                       Sering error      1              0   \n",
       "\n",
       "  reviewCreatedVersion                  at replyContent repliedAt  \n",
       "0                3.6.8 2022-11-04 12:04:57         None       NaT  \n",
       "1                3.6.8 2022-11-04 07:48:52         None       NaT  \n",
       "2                3.6.8 2022-11-03 23:56:43         None       NaT  \n",
       "3                3.6.8 2022-11-03 15:45:38         None       NaT  \n",
       "4                 None 2022-11-03 06:39:27         None       NaT  "
      ]
     },
     "execution_count": 3,
     "metadata": {},
     "output_type": "execute_result"
    }
   ],
   "source": [
    "df_mypertamina = pd.DataFrame(np.array(us_reviews),columns=['review'])\n",
    "\n",
    "\n",
    "df_mypertamina = df_mypertamina.join(pd.DataFrame(df_mypertamina.pop('review').tolist()))\n",
    "\n",
    "\n",
    "\n",
    "df_mypertamina.head()"
   ]
  },
  {
   "cell_type": "code",
   "execution_count": 4,
   "metadata": {},
   "outputs": [
    {
     "data": {
      "text/plain": [
       "22775"
      ]
     },
     "execution_count": 4,
     "metadata": {},
     "output_type": "execute_result"
    }
   ],
   "source": [
    "len(df_mypertamina.index) #count the number of data we got"
   ]
  },
  {
   "cell_type": "code",
   "execution_count": 5,
   "metadata": {},
   "outputs": [
    {
     "data": {
      "text/html": [
       "<div>\n",
       "<style scoped>\n",
       "    .dataframe tbody tr th:only-of-type {\n",
       "        vertical-align: middle;\n",
       "    }\n",
       "\n",
       "    .dataframe tbody tr th {\n",
       "        vertical-align: top;\n",
       "    }\n",
       "\n",
       "    .dataframe thead th {\n",
       "        text-align: right;\n",
       "    }\n",
       "</style>\n",
       "<table border=\"1\" class=\"dataframe\">\n",
       "  <thead>\n",
       "    <tr style=\"text-align: right;\">\n",
       "      <th></th>\n",
       "      <th>userName</th>\n",
       "      <th>score</th>\n",
       "      <th>at</th>\n",
       "      <th>content</th>\n",
       "    </tr>\n",
       "  </thead>\n",
       "  <tbody>\n",
       "    <tr>\n",
       "      <th>0</th>\n",
       "      <td>Rully Pohan</td>\n",
       "      <td>1</td>\n",
       "      <td>2022-11-04 12:04:57</td>\n",
       "      <td>kiosk matic gak berfungsi, order bright gas ga...</td>\n",
       "    </tr>\n",
       "    <tr>\n",
       "      <th>1</th>\n",
       "      <td>Novitriyani Sekarjati</td>\n",
       "      <td>1</td>\n",
       "      <td>2022-11-04 07:48:52</td>\n",
       "      <td>Ga niat bikin app kah? I spent an hour at spbu...</td>\n",
       "    </tr>\n",
       "    <tr>\n",
       "      <th>2</th>\n",
       "      <td>Lucky Jaya</td>\n",
       "      <td>3</td>\n",
       "      <td>2022-11-03 23:56:43</td>\n",
       "      <td>ngga bisa login, lucu yaa 🤣🤣</td>\n",
       "    </tr>\n",
       "    <tr>\n",
       "      <th>3</th>\n",
       "      <td>Nanang Fauzi</td>\n",
       "      <td>1</td>\n",
       "      <td>2022-11-03 15:45:38</td>\n",
       "      <td>Saya sudah daftar untuk mobil pribadi, meskipu...</td>\n",
       "    </tr>\n",
       "    <tr>\n",
       "      <th>4</th>\n",
       "      <td>Azzar Hanif</td>\n",
       "      <td>1</td>\n",
       "      <td>2022-11-03 06:39:27</td>\n",
       "      <td>Sering error</td>\n",
       "    </tr>\n",
       "  </tbody>\n",
       "</table>\n",
       "</div>"
      ],
      "text/plain": [
       "                userName  score                  at  \\\n",
       "0            Rully Pohan      1 2022-11-04 12:04:57   \n",
       "1  Novitriyani Sekarjati      1 2022-11-04 07:48:52   \n",
       "2             Lucky Jaya      3 2022-11-03 23:56:43   \n",
       "3           Nanang Fauzi      1 2022-11-03 15:45:38   \n",
       "4            Azzar Hanif      1 2022-11-03 06:39:27   \n",
       "\n",
       "                                             content  \n",
       "0  kiosk matic gak berfungsi, order bright gas ga...  \n",
       "1  Ga niat bikin app kah? I spent an hour at spbu...  \n",
       "2                       ngga bisa login, lucu yaa 🤣🤣  \n",
       "3  Saya sudah daftar untuk mobil pribadi, meskipu...  \n",
       "4                                       Sering error  "
      ]
     },
     "execution_count": 5,
     "metadata": {},
     "output_type": "execute_result"
    }
   ],
   "source": [
    "df_mypertamina[['userName', 'score','at', 'content']].head()  #preview userName, rating, date-time, and reviews only"
   ]
  },
  {
   "cell_type": "code",
   "execution_count": 10,
   "metadata": {},
   "outputs": [],
   "source": [
    "df_mypertamina.to_csv(\"raw_scrapped_data.csv\", index = False)  #Save the file as CSV"
   ]
  },
  {
   "cell_type": "code",
   "execution_count": 11,
   "metadata": {},
   "outputs": [],
   "source": [
    "my_df = df_mypertamina[['userName', 'score','at', 'content']] #get userName, rating, date-time, and reviews only"
   ]
  },
  {
   "cell_type": "code",
   "execution_count": null,
   "metadata": {},
   "outputs": [],
   "source": [
    "my_df.to_csv(\"scrapped_data.csv\", index = False)  #Save the file as CSV"
   ]
  }
 ],
 "metadata": {
  "kernelspec": {
   "display_name": "Python 3.10.8 64-bit (microsoft store)",
   "language": "python",
   "name": "python3"
  },
  "language_info": {
   "codemirror_mode": {
    "name": "ipython",
    "version": 3
   },
   "file_extension": ".py",
   "mimetype": "text/x-python",
   "name": "python",
   "nbconvert_exporter": "python",
   "pygments_lexer": "ipython3",
   "version": "3.10.8"
  },
  "orig_nbformat": 4,
  "vscode": {
   "interpreter": {
    "hash": "a1a21fbe1a7c3df9aca17de0703332c203e67fb2efea4edc1aecd483d976aae9"
   }
  }
 },
 "nbformat": 4,
 "nbformat_minor": 2
}
